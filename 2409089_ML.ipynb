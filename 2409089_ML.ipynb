{
  "nbformat": 4,
  "nbformat_minor": 0,
  "metadata": {
    "colab": {
      "provenance": [],
      "authorship_tag": "ABX9TyPk0xdpDOyJpFkm3hVd/hzo",
      "include_colab_link": true
    },
    "kernelspec": {
      "name": "python3",
      "display_name": "Python 3"
    },
    "language_info": {
      "name": "python"
    }
  },
  "cells": [
    {
      "cell_type": "markdown",
      "metadata": {
        "id": "view-in-github",
        "colab_type": "text"
      },
      "source": [
        "<a href=\"https://colab.research.google.com/github/Jannahan/CM2604-ML-Coursework/blob/Develop/2409089_ML.ipynb\" target=\"_parent\"><img src=\"https://colab.research.google.com/assets/colab-badge.svg\" alt=\"Open In Colab\"/></a>"
      ]
    },
    {
      "cell_type": "code",
      "execution_count": 2,
      "metadata": {
        "id": "482iOePw7Vna"
      },
      "outputs": [],
      "source": [
        "# Import required libraries\n",
        "from google.colab import drive\n",
        "import pandas as pd\n",
        "import numpy as np\n",
        "from sklearn.model_selection import train_test_split\n",
        "from sklearn.ensemble import RandomForestClassifier\n",
        "from sklearn.metrics import accuracy_score, classification_report, confusion_matrix\n",
        "from sklearn.preprocessing import StandardScaler\n",
        "from tensorflow.keras.models import Sequential\n",
        "from tensorflow.keras.layers import Dense\n",
        "from imblearn.over_sampling import SMOTE\n",
        "import matplotlib.pyplot as plt"
      ]
    },
    {
      "cell_type": "code",
      "source": [
        "# Mount Google Drive for dataset access\n",
        "drive.mount('/content/drive')"
      ],
      "metadata": {
        "colab": {
          "base_uri": "https://localhost:8080/"
        },
        "id": "iG4eBdON8m3a",
        "outputId": "9dce67b1-9d2c-47f4-a640-3b2b2dd9c612"
      },
      "execution_count": 3,
      "outputs": [
        {
          "output_type": "stream",
          "name": "stdout",
          "text": [
            "Mounted at /content/drive\n"
          ]
        }
      ]
    },
    {
      "cell_type": "code",
      "source": [
        "# Load the dataset\n",
        "file_path = '/content/drive/My Drive/ML_Coursework/bank-additional-full.csv'\n",
        "data = pd.read_csv(file_path, sep=';')"
      ],
      "metadata": {
        "id": "KocHNVLV8vtw"
      },
      "execution_count": 4,
      "outputs": []
    },
    {
      "cell_type": "markdown",
      "source": [
        "#Dataset"
      ],
      "metadata": {
        "id": "dkagr8HM8xpq"
      }
    },
    {
      "cell_type": "code",
      "source": [
        "# Display dataset summary\n",
        "print(data.head())\n",
        "print(data.info())"
      ],
      "metadata": {
        "colab": {
          "base_uri": "https://localhost:8080/"
        },
        "id": "WeLxiTyxoqFM",
        "outputId": "cc44ea5c-b042-418d-b336-992814d10ef8"
      },
      "execution_count": 5,
      "outputs": [
        {
          "output_type": "stream",
          "name": "stdout",
          "text": [
            "   age        job  marital    education  default housing loan    contact  \\\n",
            "0   56  housemaid  married     basic.4y       no      no   no  telephone   \n",
            "1   57   services  married  high.school  unknown      no   no  telephone   \n",
            "2   37   services  married  high.school       no     yes   no  telephone   \n",
            "3   40     admin.  married     basic.6y       no      no   no  telephone   \n",
            "4   56   services  married  high.school       no      no  yes  telephone   \n",
            "\n",
            "  month day_of_week  ...  campaign  pdays  previous     poutcome emp.var.rate  \\\n",
            "0   may         mon  ...         1    999         0  nonexistent          1.1   \n",
            "1   may         mon  ...         1    999         0  nonexistent          1.1   \n",
            "2   may         mon  ...         1    999         0  nonexistent          1.1   \n",
            "3   may         mon  ...         1    999         0  nonexistent          1.1   \n",
            "4   may         mon  ...         1    999         0  nonexistent          1.1   \n",
            "\n",
            "   cons.price.idx  cons.conf.idx  euribor3m  nr.employed   y  \n",
            "0          93.994          -36.4      4.857       5191.0  no  \n",
            "1          93.994          -36.4      4.857       5191.0  no  \n",
            "2          93.994          -36.4      4.857       5191.0  no  \n",
            "3          93.994          -36.4      4.857       5191.0  no  \n",
            "4          93.994          -36.4      4.857       5191.0  no  \n",
            "\n",
            "[5 rows x 21 columns]\n",
            "<class 'pandas.core.frame.DataFrame'>\n",
            "RangeIndex: 41188 entries, 0 to 41187\n",
            "Data columns (total 21 columns):\n",
            " #   Column          Non-Null Count  Dtype  \n",
            "---  ------          --------------  -----  \n",
            " 0   age             41188 non-null  int64  \n",
            " 1   job             41188 non-null  object \n",
            " 2   marital         41188 non-null  object \n",
            " 3   education       41188 non-null  object \n",
            " 4   default         41188 non-null  object \n",
            " 5   housing         41188 non-null  object \n",
            " 6   loan            41188 non-null  object \n",
            " 7   contact         41188 non-null  object \n",
            " 8   month           41188 non-null  object \n",
            " 9   day_of_week     41188 non-null  object \n",
            " 10  duration        41188 non-null  int64  \n",
            " 11  campaign        41188 non-null  int64  \n",
            " 12  pdays           41188 non-null  int64  \n",
            " 13  previous        41188 non-null  int64  \n",
            " 14  poutcome        41188 non-null  object \n",
            " 15  emp.var.rate    41188 non-null  float64\n",
            " 16  cons.price.idx  41188 non-null  float64\n",
            " 17  cons.conf.idx   41188 non-null  float64\n",
            " 18  euribor3m       41188 non-null  float64\n",
            " 19  nr.employed     41188 non-null  float64\n",
            " 20  y               41188 non-null  object \n",
            "dtypes: float64(5), int64(5), object(11)\n",
            "memory usage: 6.6+ MB\n",
            "None\n"
          ]
        }
      ]
    },
    {
      "cell_type": "markdown",
      "source": [
        "#Preprocessing"
      ],
      "metadata": {
        "id": "8GsTzH8Jpiat"
      }
    },
    {
      "cell_type": "code",
      "source": [
        "# Data Preprocessing\n",
        "print(\"missing values\")\n",
        "print(data.isnull().sum())\n",
        "\n",
        "print(\"unique values in each column\")\n",
        "print(data.nunique())\n",
        "\n",
        "# Replace 'unknown' values with NaN to mark 'unknown' values as missing data (NaN),\n",
        "data.replace(\"unknown\", pd.NA, inplace=True)\n",
        "\n",
        "# One-hot encode categorical variables\n",
        "data_encoded = pd.get_dummies(data, drop_first=True)\n",
        "\n",
        "# Encode the target column ('y')\n",
        "# This step converts categorical target values into numerical format for machine learning models.\n",
        "data_encoded['y'] = data['y'].map({'yes': 1, 'no': 0})\n",
        "\n",
        "# Confirm encoding\n",
        "print(data_encoded.head())\n",
        "\n",
        "# Separate features and target\n",
        "X = data_encoded.drop(columns=['y'])\n",
        "y = data_encoded['y']\n",
        "\n",
        "# Split the data into training and testing sets\n",
        "X_train, X_test, y_train, y_test = train_test_split(X, y, test_size=0.3, random_state=42)\n",
        "print(\"Training and testing data split completed.\")"
      ],
      "metadata": {
        "colab": {
          "base_uri": "https://localhost:8080/"
        },
        "id": "za0AvZHIpjsO",
        "outputId": "403790bb-11ab-4fa8-d222-fb58878a1ee6"
      },
      "execution_count": 6,
      "outputs": [
        {
          "output_type": "stream",
          "name": "stdout",
          "text": [
            "missing values\n",
            "age               0\n",
            "job               0\n",
            "marital           0\n",
            "education         0\n",
            "default           0\n",
            "housing           0\n",
            "loan              0\n",
            "contact           0\n",
            "month             0\n",
            "day_of_week       0\n",
            "duration          0\n",
            "campaign          0\n",
            "pdays             0\n",
            "previous          0\n",
            "poutcome          0\n",
            "emp.var.rate      0\n",
            "cons.price.idx    0\n",
            "cons.conf.idx     0\n",
            "euribor3m         0\n",
            "nr.employed       0\n",
            "y                 0\n",
            "dtype: int64\n",
            "unique values in each column\n",
            "age                 78\n",
            "job                 12\n",
            "marital              4\n",
            "education            8\n",
            "default              3\n",
            "housing              3\n",
            "loan                 3\n",
            "contact              2\n",
            "month               10\n",
            "day_of_week          5\n",
            "duration          1544\n",
            "campaign            42\n",
            "pdays               27\n",
            "previous             8\n",
            "poutcome             3\n",
            "emp.var.rate        10\n",
            "cons.price.idx      26\n",
            "cons.conf.idx       26\n",
            "euribor3m          316\n",
            "nr.employed         11\n",
            "y                    2\n",
            "dtype: int64\n",
            "   age  duration  campaign  pdays  previous  emp.var.rate  cons.price.idx  \\\n",
            "0   56       261         1    999         0           1.1          93.994   \n",
            "1   57       149         1    999         0           1.1          93.994   \n",
            "2   37       226         1    999         0           1.1          93.994   \n",
            "3   40       151         1    999         0           1.1          93.994   \n",
            "4   56       307         1    999         0           1.1          93.994   \n",
            "\n",
            "   cons.conf.idx  euribor3m  nr.employed  ...  month_oct  month_sep  \\\n",
            "0          -36.4      4.857       5191.0  ...      False      False   \n",
            "1          -36.4      4.857       5191.0  ...      False      False   \n",
            "2          -36.4      4.857       5191.0  ...      False      False   \n",
            "3          -36.4      4.857       5191.0  ...      False      False   \n",
            "4          -36.4      4.857       5191.0  ...      False      False   \n",
            "\n",
            "   day_of_week_mon  day_of_week_thu  day_of_week_tue  day_of_week_wed  \\\n",
            "0             True            False            False            False   \n",
            "1             True            False            False            False   \n",
            "2             True            False            False            False   \n",
            "3             True            False            False            False   \n",
            "4             True            False            False            False   \n",
            "\n",
            "   poutcome_nonexistent  poutcome_success  y_yes  y  \n",
            "0                  True             False  False  0  \n",
            "1                  True             False  False  0  \n",
            "2                  True             False  False  0  \n",
            "3                  True             False  False  0  \n",
            "4                  True             False  False  0  \n",
            "\n",
            "[5 rows x 49 columns]\n",
            "Training and testing data split completed.\n"
          ]
        }
      ]
    }
  ]
}