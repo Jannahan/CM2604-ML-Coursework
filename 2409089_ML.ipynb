{
  "nbformat": 4,
  "nbformat_minor": 0,
  "metadata": {
    "colab": {
      "provenance": [],
      "authorship_tag": "ABX9TyN3YeHSrdWcih3XsxhaYiXH",
      "include_colab_link": true
    },
    "kernelspec": {
      "name": "python3",
      "display_name": "Python 3"
    },
    "language_info": {
      "name": "python"
    }
  },
  "cells": [
    {
      "cell_type": "markdown",
      "metadata": {
        "id": "view-in-github",
        "colab_type": "text"
      },
      "source": [
        "<a href=\"https://colab.research.google.com/github/Jannahan/CM2604-ML-Coursework/blob/Develop/2409089_ML.ipynb\" target=\"_parent\"><img src=\"https://colab.research.google.com/assets/colab-badge.svg\" alt=\"Open In Colab\"/></a>"
      ]
    },
    {
      "cell_type": "code",
      "execution_count": 11,
      "metadata": {
        "id": "482iOePw7Vna"
      },
      "outputs": [],
      "source": [
        "# Import required libraries\n",
        "from google.colab import drive\n",
        "import pandas as pd\n",
        "import numpy as np\n",
        "from sklearn.model_selection import train_test_split\n",
        "from sklearn.utils.class_weight import compute_class_weight\n",
        "from sklearn.ensemble import RandomForestClassifier\n",
        "from sklearn.metrics import accuracy_score, classification_report, confusion_matrix\n",
        "from sklearn.preprocessing import StandardScaler\n",
        "from tensorflow.keras.models import Sequential\n",
        "from tensorflow.keras.layers import Dense\n",
        "from imblearn.over_sampling import SMOTE\n",
        "import matplotlib.pyplot as plt"
      ]
    },
    {
      "cell_type": "code",
      "source": [
        "# Mount Google Drive for dataset access\n",
        "drive.mount('/content/drive')"
      ],
      "metadata": {
        "colab": {
          "base_uri": "https://localhost:8080/"
        },
        "id": "iG4eBdON8m3a",
        "outputId": "9dce67b1-9d2c-47f4-a640-3b2b2dd9c612"
      },
      "execution_count": 3,
      "outputs": [
        {
          "output_type": "stream",
          "name": "stdout",
          "text": [
            "Mounted at /content/drive\n"
          ]
        }
      ]
    },
    {
      "cell_type": "code",
      "source": [
        "# Load the dataset\n",
        "file_path = '/content/drive/My Drive/ML_Coursework/bank-additional-full.csv'\n",
        "data = pd.read_csv(file_path, sep=';')"
      ],
      "metadata": {
        "id": "KocHNVLV8vtw"
      },
      "execution_count": 4,
      "outputs": []
    },
    {
      "cell_type": "markdown",
      "source": [
        "#Dataset"
      ],
      "metadata": {
        "id": "dkagr8HM8xpq"
      }
    },
    {
      "cell_type": "code",
      "source": [
        "# Display dataset summary\n",
        "print(data.head())\n",
        "print(data.info())"
      ],
      "metadata": {
        "colab": {
          "base_uri": "https://localhost:8080/"
        },
        "id": "WeLxiTyxoqFM",
        "outputId": "cc44ea5c-b042-418d-b336-992814d10ef8"
      },
      "execution_count": 5,
      "outputs": [
        {
          "output_type": "stream",
          "name": "stdout",
          "text": [
            "   age        job  marital    education  default housing loan    contact  \\\n",
            "0   56  housemaid  married     basic.4y       no      no   no  telephone   \n",
            "1   57   services  married  high.school  unknown      no   no  telephone   \n",
            "2   37   services  married  high.school       no     yes   no  telephone   \n",
            "3   40     admin.  married     basic.6y       no      no   no  telephone   \n",
            "4   56   services  married  high.school       no      no  yes  telephone   \n",
            "\n",
            "  month day_of_week  ...  campaign  pdays  previous     poutcome emp.var.rate  \\\n",
            "0   may         mon  ...         1    999         0  nonexistent          1.1   \n",
            "1   may         mon  ...         1    999         0  nonexistent          1.1   \n",
            "2   may         mon  ...         1    999         0  nonexistent          1.1   \n",
            "3   may         mon  ...         1    999         0  nonexistent          1.1   \n",
            "4   may         mon  ...         1    999         0  nonexistent          1.1   \n",
            "\n",
            "   cons.price.idx  cons.conf.idx  euribor3m  nr.employed   y  \n",
            "0          93.994          -36.4      4.857       5191.0  no  \n",
            "1          93.994          -36.4      4.857       5191.0  no  \n",
            "2          93.994          -36.4      4.857       5191.0  no  \n",
            "3          93.994          -36.4      4.857       5191.0  no  \n",
            "4          93.994          -36.4      4.857       5191.0  no  \n",
            "\n",
            "[5 rows x 21 columns]\n",
            "<class 'pandas.core.frame.DataFrame'>\n",
            "RangeIndex: 41188 entries, 0 to 41187\n",
            "Data columns (total 21 columns):\n",
            " #   Column          Non-Null Count  Dtype  \n",
            "---  ------          --------------  -----  \n",
            " 0   age             41188 non-null  int64  \n",
            " 1   job             41188 non-null  object \n",
            " 2   marital         41188 non-null  object \n",
            " 3   education       41188 non-null  object \n",
            " 4   default         41188 non-null  object \n",
            " 5   housing         41188 non-null  object \n",
            " 6   loan            41188 non-null  object \n",
            " 7   contact         41188 non-null  object \n",
            " 8   month           41188 non-null  object \n",
            " 9   day_of_week     41188 non-null  object \n",
            " 10  duration        41188 non-null  int64  \n",
            " 11  campaign        41188 non-null  int64  \n",
            " 12  pdays           41188 non-null  int64  \n",
            " 13  previous        41188 non-null  int64  \n",
            " 14  poutcome        41188 non-null  object \n",
            " 15  emp.var.rate    41188 non-null  float64\n",
            " 16  cons.price.idx  41188 non-null  float64\n",
            " 17  cons.conf.idx   41188 non-null  float64\n",
            " 18  euribor3m       41188 non-null  float64\n",
            " 19  nr.employed     41188 non-null  float64\n",
            " 20  y               41188 non-null  object \n",
            "dtypes: float64(5), int64(5), object(11)\n",
            "memory usage: 6.6+ MB\n",
            "None\n"
          ]
        }
      ]
    },
    {
      "cell_type": "markdown",
      "source": [
        "#Preprocessing"
      ],
      "metadata": {
        "id": "8GsTzH8Jpiat"
      }
    },
    {
      "cell_type": "code",
      "source": [
        "# Data Preprocessing\n",
        "print(\"missing values\")\n",
        "print(data.isnull().sum())\n",
        "\n",
        "print(\"unique values in each column\")\n",
        "print(data.nunique())\n",
        "\n",
        "# Replace 'unknown' values with NaN to mark 'unknown' values as missing data (NaN),\n",
        "data.replace(\"unknown\", pd.NA, inplace=True)\n",
        "\n",
        "# One-hot encode categorical variables\n",
        "data_encoded = pd.get_dummies(data, drop_first=True)\n",
        "\n",
        "# Encode the target column ('y')\n",
        "# This step converts categorical target values into numerical format for machine learning models.\n",
        "data_encoded['y'] = data['y'].map({'yes': 1, 'no': 0})\n",
        "\n",
        "# Confirm encoding\n",
        "print(data_encoded.head())\n",
        "\n",
        "# Separate features and target\n",
        "X = data_encoded.drop(columns=['y'])\n",
        "y = data_encoded['y']\n",
        "\n",
        "# Split the data into training and testing sets\n",
        "X_train, X_test, y_train, y_test = train_test_split(X, y, test_size=0.3, random_state=42)\n",
        "print(\"Training and testing data split completed.\")"
      ],
      "metadata": {
        "colab": {
          "base_uri": "https://localhost:8080/"
        },
        "id": "za0AvZHIpjsO",
        "outputId": "403790bb-11ab-4fa8-d222-fb58878a1ee6"
      },
      "execution_count": 6,
      "outputs": [
        {
          "output_type": "stream",
          "name": "stdout",
          "text": [
            "missing values\n",
            "age               0\n",
            "job               0\n",
            "marital           0\n",
            "education         0\n",
            "default           0\n",
            "housing           0\n",
            "loan              0\n",
            "contact           0\n",
            "month             0\n",
            "day_of_week       0\n",
            "duration          0\n",
            "campaign          0\n",
            "pdays             0\n",
            "previous          0\n",
            "poutcome          0\n",
            "emp.var.rate      0\n",
            "cons.price.idx    0\n",
            "cons.conf.idx     0\n",
            "euribor3m         0\n",
            "nr.employed       0\n",
            "y                 0\n",
            "dtype: int64\n",
            "unique values in each column\n",
            "age                 78\n",
            "job                 12\n",
            "marital              4\n",
            "education            8\n",
            "default              3\n",
            "housing              3\n",
            "loan                 3\n",
            "contact              2\n",
            "month               10\n",
            "day_of_week          5\n",
            "duration          1544\n",
            "campaign            42\n",
            "pdays               27\n",
            "previous             8\n",
            "poutcome             3\n",
            "emp.var.rate        10\n",
            "cons.price.idx      26\n",
            "cons.conf.idx       26\n",
            "euribor3m          316\n",
            "nr.employed         11\n",
            "y                    2\n",
            "dtype: int64\n",
            "   age  duration  campaign  pdays  previous  emp.var.rate  cons.price.idx  \\\n",
            "0   56       261         1    999         0           1.1          93.994   \n",
            "1   57       149         1    999         0           1.1          93.994   \n",
            "2   37       226         1    999         0           1.1          93.994   \n",
            "3   40       151         1    999         0           1.1          93.994   \n",
            "4   56       307         1    999         0           1.1          93.994   \n",
            "\n",
            "   cons.conf.idx  euribor3m  nr.employed  ...  month_oct  month_sep  \\\n",
            "0          -36.4      4.857       5191.0  ...      False      False   \n",
            "1          -36.4      4.857       5191.0  ...      False      False   \n",
            "2          -36.4      4.857       5191.0  ...      False      False   \n",
            "3          -36.4      4.857       5191.0  ...      False      False   \n",
            "4          -36.4      4.857       5191.0  ...      False      False   \n",
            "\n",
            "   day_of_week_mon  day_of_week_thu  day_of_week_tue  day_of_week_wed  \\\n",
            "0             True            False            False            False   \n",
            "1             True            False            False            False   \n",
            "2             True            False            False            False   \n",
            "3             True            False            False            False   \n",
            "4             True            False            False            False   \n",
            "\n",
            "   poutcome_nonexistent  poutcome_success  y_yes  y  \n",
            "0                  True             False  False  0  \n",
            "1                  True             False  False  0  \n",
            "2                  True             False  False  0  \n",
            "3                  True             False  False  0  \n",
            "4                  True             False  False  0  \n",
            "\n",
            "[5 rows x 49 columns]\n",
            "Training and testing data split completed.\n"
          ]
        }
      ]
    },
    {
      "cell_type": "markdown",
      "source": [
        "#Random Forest"
      ],
      "metadata": {
        "id": "opFy8rYfp0U8"
      }
    },
    {
      "cell_type": "code",
      "source": [
        "# Initialize and train Random Forest Classifier\n",
        "# Using 100 estimators to ensure robust decision-making.\n",
        "# Random state is set for reproducibility of results.\n",
        "rf_model = RandomForestClassifier(n_estimators=100, random_state=42)\n",
        "rf_model.fit(X_train, y_train)\n",
        "\n",
        "# Make predictions\n",
        "y_pred = rf_model.predict(X_test)\n",
        "\n",
        "# Evaluate Random Forest\n",
        "print(\"Random Forest Classifier Results:\")\n",
        "print(\"Accuracy:\", accuracy_score(y_test, y_pred))\n",
        "print(\"Classification Report:\\n\", classification_report(y_test, y_pred))\n",
        "print(\"Confusion Matrix:\\n\", confusion_matrix(y_test, y_pred))\n",
        "\n",
        "# Feature importance\n",
        "importances = rf_model.feature_importances_\n",
        "feature_names = X_train.columns\n",
        "\n",
        "# Display top 10 important features\n",
        "importances_df = pd.DataFrame({\n",
        "    'Feature': feature_names,\n",
        "    'Importance': importances\n",
        "}).sort_values(by='Importance', ascending=False)\n",
        "print(\"Top 10 Important Features:\")\n",
        "print(importances_df.head(10))\n"
      ],
      "metadata": {
        "colab": {
          "base_uri": "https://localhost:8080/"
        },
        "id": "1IKb7J6jp19_",
        "outputId": "4072d431-e5c4-4831-dce7-ba57317e192d"
      },
      "execution_count": 7,
      "outputs": [
        {
          "output_type": "stream",
          "name": "stdout",
          "text": [
            "Random Forest Classifier Results:\n",
            "Accuracy: 1.0\n",
            "Classification Report:\n",
            "               precision    recall  f1-score   support\n",
            "\n",
            "           0       1.00      1.00      1.00     10968\n",
            "           1       1.00      1.00      1.00      1389\n",
            "\n",
            "    accuracy                           1.00     12357\n",
            "   macro avg       1.00      1.00      1.00     12357\n",
            "weighted avg       1.00      1.00      1.00     12357\n",
            "\n",
            "Confusion Matrix:\n",
            " [[10968     0]\n",
            " [    0  1389]]\n",
            "Top 10 Important Features:\n",
            "             Feature  Importance\n",
            "47             y_yes    0.698003\n",
            "1           duration    0.090111\n",
            "9        nr.employed    0.035375\n",
            "8          euribor3m    0.034701\n",
            "3              pdays    0.018515\n",
            "46  poutcome_success    0.016436\n",
            "0                age    0.013494\n",
            "5       emp.var.rate    0.013305\n",
            "7      cons.conf.idx    0.013274\n",
            "6     cons.price.idx    0.009717\n"
          ]
        }
      ]
    },
    {
      "cell_type": "markdown",
      "source": [
        "# Random Forest Without duration"
      ],
      "metadata": {
        "id": "Bkfi0A9oqETu"
      }
    },
    {
      "cell_type": "code",
      "source": [
        "# Drop 'duration' from training and testing sets\n",
        "X_train_rf = X_train.drop(columns=['duration'])\n",
        "X_test_rf = X_test.drop(columns=['duration'])\n",
        "\n",
        "# Initialize and train the Random Forest Classifier without 'duration'\n",
        "rf_model_no_duration = RandomForestClassifier(n_estimators=100, random_state=42)\n",
        "rf_model_no_duration.fit(X_train_rf, y_train)\n",
        "\n",
        "# Make predictions and evaluate\n",
        "y_pred_rf_no_duration = rf_model_no_duration.predict(X_test_rf)\n",
        "\n",
        "# Evaluate the model\n",
        "print(\"Random Forest (Without 'duration') Results:\")\n",
        "print(\"Accuracy:\", accuracy_score(y_test, y_pred_rf_no_duration))\n",
        "print(\"Classification Report:\\n\", classification_report(y_test, y_pred_rf_no_duration))\n",
        "print(\"Confusion Matrix:\\n\", confusion_matrix(y_test, y_pred_rf_no_duration))"
      ],
      "metadata": {
        "colab": {
          "base_uri": "https://localhost:8080/"
        },
        "id": "nRh4LHQdqJTx",
        "outputId": "c48e239e-1b2a-41a9-cb57-7e872c69f7cc"
      },
      "execution_count": 8,
      "outputs": [
        {
          "output_type": "stream",
          "name": "stdout",
          "text": [
            "Random Forest (Without 'duration') Results:\n",
            "Accuracy: 1.0\n",
            "Classification Report:\n",
            "               precision    recall  f1-score   support\n",
            "\n",
            "           0       1.00      1.00      1.00     10968\n",
            "           1       1.00      1.00      1.00      1389\n",
            "\n",
            "    accuracy                           1.00     12357\n",
            "   macro avg       1.00      1.00      1.00     12357\n",
            "weighted avg       1.00      1.00      1.00     12357\n",
            "\n",
            "Confusion Matrix:\n",
            " [[10968     0]\n",
            " [    0  1389]]\n"
          ]
        }
      ]
    },
    {
      "cell_type": "markdown",
      "source": [
        "# Random Forest without y_yes"
      ],
      "metadata": {
        "id": "yX9HP6KkqZ1V"
      }
    },
    {
      "cell_type": "code",
      "source": [
        "# Drop 'y_yes' from training and testing sets\n",
        "if 'y_yes' in X_train.columns:\n",
        "    X_train_rf = X_train.drop(columns=['y_yes'])\n",
        "    X_test_rf = X_test.drop(columns=['y_yes'])\n",
        "\n",
        "    rf_model_no_y_yes = RandomForestClassifier(n_estimators=100, random_state=42)\n",
        "    rf_model_no_y_yes.fit(X_train_rf, y_train)\n",
        "\n",
        "    y_pred_rf_no_y_yes = rf_model_no_y_yes.predict(X_test_rf)\n",
        "    print(\"Random Forest (Without 'y_yes') Results:\")\n",
        "    print(\"Accuracy:\", accuracy_score(y_test, y_pred_rf_no_y_yes))\n",
        "    print(\"Classification Report:\\n\", classification_report(y_test, y_pred_rf_no_y_yes))\n",
        "    print(\"Confusion Matrix:\\n\", confusion_matrix(y_test, y_pred_rf_no_y_yes))"
      ],
      "metadata": {
        "colab": {
          "base_uri": "https://localhost:8080/"
        },
        "id": "Ha_cBJ1Zqch7",
        "outputId": "ba286a1d-81b9-4c23-c3c8-caac420b3a64"
      },
      "execution_count": 9,
      "outputs": [
        {
          "output_type": "stream",
          "name": "stdout",
          "text": [
            "Random Forest (Without 'y_yes') Results:\n",
            "Accuracy: 0.9137331067411184\n",
            "Classification Report:\n",
            "               precision    recall  f1-score   support\n",
            "\n",
            "           0       0.94      0.97      0.95     10968\n",
            "           1       0.66      0.48      0.55      1389\n",
            "\n",
            "    accuracy                           0.91     12357\n",
            "   macro avg       0.80      0.72      0.75     12357\n",
            "weighted avg       0.91      0.91      0.91     12357\n",
            "\n",
            "Confusion Matrix:\n",
            " [[10631   337]\n",
            " [  729   660]]\n"
          ]
        }
      ]
    },
    {
      "cell_type": "markdown",
      "source": [
        "# Neural Network"
      ],
      "metadata": {
        "id": "LaeWi077q0LH"
      }
    },
    {
      "cell_type": "code",
      "source": [
        "# Standardize the features\n",
        "scaler = StandardScaler()\n",
        "X_train_scaled = scaler.fit_transform(X_train)\n",
        "X_test_scaled = scaler.transform(X_test)\n",
        "\n",
        "# Compute class weights for imbalanced target\n",
        "class_weights = compute_class_weight('balanced', classes=np.unique(y_train), y=y_train)\n",
        "class_weights_dict = {i: weight for i, weight in enumerate(class_weights)}\n",
        "print(\"Class weights:\", class_weights_dict)\n",
        "\n",
        "# Build the Neural Network model\n",
        "model = Sequential([\n",
        "    Dense(64, activation='relu', input_shape=(X_train_scaled.shape[1],)),\n",
        "    Dense(32, activation='relu'),\n",
        "    Dense(1, activation='sigmoid')\n",
        "])\n",
        "\n",
        "# Compile the model\n",
        "model.compile(optimizer='adam', loss='binary_crossentropy', metrics=['accuracy'])\n",
        "model.summary()\n",
        "\n",
        "# Train the model with class weights\n",
        "history = model.fit(X_train_scaled, y_train, epochs=20, batch_size=32, validation_data=(X_test_scaled, y_test))\n",
        "\n",
        "# Evaluate the Neural Network\n",
        "print(\"Neural Network Test Accuracy:\", model.evaluate(X_test_scaled, y_test)[1])\n",
        "y_pred_nn = (model.predict(X_test_scaled) > 0.5).astype(\"int32\")\n",
        "\n",
        "# Classification report and confusion matrix\n",
        "print(\"Classification Report for Neural Network:\\n\", classification_report(y_test, y_pred_nn))\n",
        "print(\"Confusion Matrix for Neural Network:\\n\", confusion_matrix(y_test, y_pred_nn))\n",
        "\n",
        "# Plot training and validation accuracy\n",
        "plt.plot(history.history['accuracy'], label='Train Accuracy')\n",
        "plt.plot(history.history['val_accuracy'], label='Validation Accuracy')\n",
        "plt.xlabel('Epochs')\n",
        "plt.ylabel('Accuracy')\n",
        "plt.legend()\n",
        "plt.show()\n",
        "\n",
        "# Plot training and validation loss\n",
        "plt.plot(history.history['loss'], label='Train Loss')\n",
        "plt.plot(history.history['val_loss'], label='Validation Loss')\n",
        "plt.xlabel('Epochs')\n",
        "plt.ylabel('Loss')\n",
        "plt.legend()\n",
        "plt.show()"
      ],
      "metadata": {
        "colab": {
          "base_uri": "https://localhost:8080/",
          "height": 1000
        },
        "id": "pFOcUhMoq3go",
        "outputId": "5731edb5-899b-4da4-d080-f774c19e676b"
      },
      "execution_count": 12,
      "outputs": [
        {
          "output_type": "stream",
          "name": "stdout",
          "text": [
            "Class weights: {0: 0.5635457388584831, 1: 4.434174100276838}\n"
          ]
        },
        {
          "output_type": "stream",
          "name": "stderr",
          "text": [
            "/usr/local/lib/python3.10/dist-packages/keras/src/layers/core/dense.py:87: UserWarning: Do not pass an `input_shape`/`input_dim` argument to a layer. When using Sequential models, prefer using an `Input(shape)` object as the first layer in the model instead.\n",
            "  super().__init__(activity_regularizer=activity_regularizer, **kwargs)\n"
          ]
        },
        {
          "output_type": "display_data",
          "data": {
            "text/plain": [
              "\u001b[1mModel: \"sequential\"\u001b[0m\n"
            ],
            "text/html": [
              "<pre style=\"white-space:pre;overflow-x:auto;line-height:normal;font-family:Menlo,'DejaVu Sans Mono',consolas,'Courier New',monospace\"><span style=\"font-weight: bold\">Model: \"sequential\"</span>\n",
              "</pre>\n"
            ]
          },
          "metadata": {}
        },
        {
          "output_type": "display_data",
          "data": {
            "text/plain": [
              "┏━━━━━━━━━━━━━━━━━━━━━━━━━━━━━━━━━━━━━━┳━━━━━━━━━━━━━━━━━━━━━━━━━━━━━┳━━━━━━━━━━━━━━━━━┓\n",
              "┃\u001b[1m \u001b[0m\u001b[1mLayer (type)                        \u001b[0m\u001b[1m \u001b[0m┃\u001b[1m \u001b[0m\u001b[1mOutput Shape               \u001b[0m\u001b[1m \u001b[0m┃\u001b[1m \u001b[0m\u001b[1m        Param #\u001b[0m\u001b[1m \u001b[0m┃\n",
              "┡━━━━━━━━━━━━━━━━━━━━━━━━━━━━━━━━━━━━━━╇━━━━━━━━━━━━━━━━━━━━━━━━━━━━━╇━━━━━━━━━━━━━━━━━┩\n",
              "│ dense (\u001b[38;5;33mDense\u001b[0m)                        │ (\u001b[38;5;45mNone\u001b[0m, \u001b[38;5;34m64\u001b[0m)                  │           \u001b[38;5;34m3,136\u001b[0m │\n",
              "├──────────────────────────────────────┼─────────────────────────────┼─────────────────┤\n",
              "│ dense_1 (\u001b[38;5;33mDense\u001b[0m)                      │ (\u001b[38;5;45mNone\u001b[0m, \u001b[38;5;34m32\u001b[0m)                  │           \u001b[38;5;34m2,080\u001b[0m │\n",
              "├──────────────────────────────────────┼─────────────────────────────┼─────────────────┤\n",
              "│ dense_2 (\u001b[38;5;33mDense\u001b[0m)                      │ (\u001b[38;5;45mNone\u001b[0m, \u001b[38;5;34m1\u001b[0m)                   │              \u001b[38;5;34m33\u001b[0m │\n",
              "└──────────────────────────────────────┴─────────────────────────────┴─────────────────┘\n"
            ],
            "text/html": [
              "<pre style=\"white-space:pre;overflow-x:auto;line-height:normal;font-family:Menlo,'DejaVu Sans Mono',consolas,'Courier New',monospace\">┏━━━━━━━━━━━━━━━━━━━━━━━━━━━━━━━━━━━━━━┳━━━━━━━━━━━━━━━━━━━━━━━━━━━━━┳━━━━━━━━━━━━━━━━━┓\n",
              "┃<span style=\"font-weight: bold\"> Layer (type)                         </span>┃<span style=\"font-weight: bold\"> Output Shape                </span>┃<span style=\"font-weight: bold\">         Param # </span>┃\n",
              "┡━━━━━━━━━━━━━━━━━━━━━━━━━━━━━━━━━━━━━━╇━━━━━━━━━━━━━━━━━━━━━━━━━━━━━╇━━━━━━━━━━━━━━━━━┩\n",
              "│ dense (<span style=\"color: #0087ff; text-decoration-color: #0087ff\">Dense</span>)                        │ (<span style=\"color: #00d7ff; text-decoration-color: #00d7ff\">None</span>, <span style=\"color: #00af00; text-decoration-color: #00af00\">64</span>)                  │           <span style=\"color: #00af00; text-decoration-color: #00af00\">3,136</span> │\n",
              "├──────────────────────────────────────┼─────────────────────────────┼─────────────────┤\n",
              "│ dense_1 (<span style=\"color: #0087ff; text-decoration-color: #0087ff\">Dense</span>)                      │ (<span style=\"color: #00d7ff; text-decoration-color: #00d7ff\">None</span>, <span style=\"color: #00af00; text-decoration-color: #00af00\">32</span>)                  │           <span style=\"color: #00af00; text-decoration-color: #00af00\">2,080</span> │\n",
              "├──────────────────────────────────────┼─────────────────────────────┼─────────────────┤\n",
              "│ dense_2 (<span style=\"color: #0087ff; text-decoration-color: #0087ff\">Dense</span>)                      │ (<span style=\"color: #00d7ff; text-decoration-color: #00d7ff\">None</span>, <span style=\"color: #00af00; text-decoration-color: #00af00\">1</span>)                   │              <span style=\"color: #00af00; text-decoration-color: #00af00\">33</span> │\n",
              "└──────────────────────────────────────┴─────────────────────────────┴─────────────────┘\n",
              "</pre>\n"
            ]
          },
          "metadata": {}
        },
        {
          "output_type": "display_data",
          "data": {
            "text/plain": [
              "\u001b[1m Total params: \u001b[0m\u001b[38;5;34m5,249\u001b[0m (20.50 KB)\n"
            ],
            "text/html": [
              "<pre style=\"white-space:pre;overflow-x:auto;line-height:normal;font-family:Menlo,'DejaVu Sans Mono',consolas,'Courier New',monospace\"><span style=\"font-weight: bold\"> Total params: </span><span style=\"color: #00af00; text-decoration-color: #00af00\">5,249</span> (20.50 KB)\n",
              "</pre>\n"
            ]
          },
          "metadata": {}
        },
        {
          "output_type": "display_data",
          "data": {
            "text/plain": [
              "\u001b[1m Trainable params: \u001b[0m\u001b[38;5;34m5,249\u001b[0m (20.50 KB)\n"
            ],
            "text/html": [
              "<pre style=\"white-space:pre;overflow-x:auto;line-height:normal;font-family:Menlo,'DejaVu Sans Mono',consolas,'Courier New',monospace\"><span style=\"font-weight: bold\"> Trainable params: </span><span style=\"color: #00af00; text-decoration-color: #00af00\">5,249</span> (20.50 KB)\n",
              "</pre>\n"
            ]
          },
          "metadata": {}
        },
        {
          "output_type": "display_data",
          "data": {
            "text/plain": [
              "\u001b[1m Non-trainable params: \u001b[0m\u001b[38;5;34m0\u001b[0m (0.00 B)\n"
            ],
            "text/html": [
              "<pre style=\"white-space:pre;overflow-x:auto;line-height:normal;font-family:Menlo,'DejaVu Sans Mono',consolas,'Courier New',monospace\"><span style=\"font-weight: bold\"> Non-trainable params: </span><span style=\"color: #00af00; text-decoration-color: #00af00\">0</span> (0.00 B)\n",
              "</pre>\n"
            ]
          },
          "metadata": {}
        },
        {
          "output_type": "stream",
          "name": "stdout",
          "text": [
            "Epoch 1/20\n",
            "\u001b[1m901/901\u001b[0m \u001b[32m━━━━━━━━━━━━━━━━━━━━\u001b[0m\u001b[37m\u001b[0m \u001b[1m3s\u001b[0m 2ms/step - accuracy: 0.9635 - loss: 0.1209 - val_accuracy: 0.9999 - val_loss: 7.3117e-04\n",
            "Epoch 2/20\n",
            "\u001b[1m901/901\u001b[0m \u001b[32m━━━━━━━━━━━━━━━━━━━━\u001b[0m\u001b[37m\u001b[0m \u001b[1m2s\u001b[0m 2ms/step - accuracy: 0.9999 - loss: 9.6972e-04 - val_accuracy: 1.0000 - val_loss: 1.5178e-04\n",
            "Epoch 3/20\n",
            "\u001b[1m901/901\u001b[0m \u001b[32m━━━━━━━━━━━━━━━━━━━━\u001b[0m\u001b[37m\u001b[0m \u001b[1m3s\u001b[0m 2ms/step - accuracy: 1.0000 - loss: 2.5549e-04 - val_accuracy: 0.9999 - val_loss: 0.0011\n",
            "Epoch 4/20\n",
            "\u001b[1m901/901\u001b[0m \u001b[32m━━━━━━━━━━━━━━━━━━━━\u001b[0m\u001b[37m\u001b[0m \u001b[1m3s\u001b[0m 3ms/step - accuracy: 0.9999 - loss: 8.4078e-04 - val_accuracy: 0.9999 - val_loss: 2.1401e-04\n",
            "Epoch 5/20\n",
            "\u001b[1m901/901\u001b[0m \u001b[32m━━━━━━━━━━━━━━━━━━━━\u001b[0m\u001b[37m\u001b[0m \u001b[1m4s\u001b[0m 2ms/step - accuracy: 1.0000 - loss: 2.8062e-05 - val_accuracy: 0.9999 - val_loss: 1.4880e-04\n",
            "Epoch 6/20\n",
            "\u001b[1m901/901\u001b[0m \u001b[32m━━━━━━━━━━━━━━━━━━━━\u001b[0m\u001b[37m\u001b[0m \u001b[1m3s\u001b[0m 2ms/step - accuracy: 1.0000 - loss: 1.0347e-05 - val_accuracy: 0.9999 - val_loss: 1.1823e-04\n",
            "Epoch 7/20\n",
            "\u001b[1m901/901\u001b[0m \u001b[32m━━━━━━━━━━━━━━━━━━━━\u001b[0m\u001b[37m\u001b[0m \u001b[1m3s\u001b[0m 2ms/step - accuracy: 1.0000 - loss: 5.4502e-06 - val_accuracy: 0.9999 - val_loss: 8.4477e-05\n",
            "Epoch 8/20\n",
            "\u001b[1m901/901\u001b[0m \u001b[32m━━━━━━━━━━━━━━━━━━━━\u001b[0m\u001b[37m\u001b[0m \u001b[1m3s\u001b[0m 2ms/step - accuracy: 1.0000 - loss: 3.3507e-06 - val_accuracy: 0.9999 - val_loss: 6.8540e-05\n",
            "Epoch 9/20\n",
            "\u001b[1m901/901\u001b[0m \u001b[32m━━━━━━━━━━━━━━━━━━━━\u001b[0m\u001b[37m\u001b[0m \u001b[1m3s\u001b[0m 3ms/step - accuracy: 1.0000 - loss: 1.9960e-06 - val_accuracy: 1.0000 - val_loss: 4.1851e-05\n",
            "Epoch 10/20\n",
            "\u001b[1m901/901\u001b[0m \u001b[32m━━━━━━━━━━━━━━━━━━━━\u001b[0m\u001b[37m\u001b[0m \u001b[1m2s\u001b[0m 3ms/step - accuracy: 1.0000 - loss: 1.0446e-06 - val_accuracy: 1.0000 - val_loss: 9.5705e-06\n",
            "Epoch 11/20\n",
            "\u001b[1m901/901\u001b[0m \u001b[32m━━━━━━━━━━━━━━━━━━━━\u001b[0m\u001b[37m\u001b[0m \u001b[1m2s\u001b[0m 2ms/step - accuracy: 1.0000 - loss: 6.9592e-07 - val_accuracy: 0.9999 - val_loss: 7.4063e-05\n",
            "Epoch 12/20\n",
            "\u001b[1m901/901\u001b[0m \u001b[32m━━━━━━━━━━━━━━━━━━━━\u001b[0m\u001b[37m\u001b[0m \u001b[1m2s\u001b[0m 2ms/step - accuracy: 1.0000 - loss: 8.7945e-07 - val_accuracy: 0.9995 - val_loss: 0.0108\n",
            "Epoch 13/20\n",
            "\u001b[1m901/901\u001b[0m \u001b[32m━━━━━━━━━━━━━━━━━━━━\u001b[0m\u001b[37m\u001b[0m \u001b[1m2s\u001b[0m 2ms/step - accuracy: 0.9999 - loss: 0.0018 - val_accuracy: 0.9999 - val_loss: 6.9008e-04\n",
            "Epoch 14/20\n",
            "\u001b[1m901/901\u001b[0m \u001b[32m━━━━━━━━━━━━━━━━━━━━\u001b[0m\u001b[37m\u001b[0m \u001b[1m2s\u001b[0m 2ms/step - accuracy: 0.9999 - loss: 3.2075e-04 - val_accuracy: 0.9999 - val_loss: 2.6896e-04\n",
            "Epoch 15/20\n",
            "\u001b[1m901/901\u001b[0m \u001b[32m━━━━━━━━━━━━━━━━━━━━\u001b[0m\u001b[37m\u001b[0m \u001b[1m2s\u001b[0m 3ms/step - accuracy: 1.0000 - loss: 9.3821e-07 - val_accuracy: 0.9999 - val_loss: 2.7336e-04\n",
            "Epoch 16/20\n",
            "\u001b[1m901/901\u001b[0m \u001b[32m━━━━━━━━━━━━━━━━━━━━\u001b[0m\u001b[37m\u001b[0m \u001b[1m3s\u001b[0m 3ms/step - accuracy: 1.0000 - loss: 2.2140e-07 - val_accuracy: 0.9999 - val_loss: 3.0362e-04\n",
            "Epoch 17/20\n",
            "\u001b[1m901/901\u001b[0m \u001b[32m━━━━━━━━━━━━━━━━━━━━\u001b[0m\u001b[37m\u001b[0m \u001b[1m4s\u001b[0m 2ms/step - accuracy: 1.0000 - loss: 2.2863e-07 - val_accuracy: 0.9999 - val_loss: 3.0595e-04\n",
            "Epoch 18/20\n",
            "\u001b[1m901/901\u001b[0m \u001b[32m━━━━━━━━━━━━━━━━━━━━\u001b[0m\u001b[37m\u001b[0m \u001b[1m3s\u001b[0m 2ms/step - accuracy: 1.0000 - loss: 3.6120e-07 - val_accuracy: 0.9999 - val_loss: 3.0576e-04\n",
            "Epoch 19/20\n",
            "\u001b[1m901/901\u001b[0m \u001b[32m━━━━━━━━━━━━━━━━━━━━\u001b[0m\u001b[37m\u001b[0m \u001b[1m2s\u001b[0m 2ms/step - accuracy: 1.0000 - loss: 1.0565e-07 - val_accuracy: 0.9999 - val_loss: 2.7032e-04\n",
            "Epoch 20/20\n",
            "\u001b[1m901/901\u001b[0m \u001b[32m━━━━━━━━━━━━━━━━━━━━\u001b[0m\u001b[37m\u001b[0m \u001b[1m3s\u001b[0m 2ms/step - accuracy: 1.0000 - loss: 1.2487e-07 - val_accuracy: 0.9999 - val_loss: 2.6933e-04\n",
            "\u001b[1m387/387\u001b[0m \u001b[32m━━━━━━━━━━━━━━━━━━━━\u001b[0m\u001b[37m\u001b[0m \u001b[1m1s\u001b[0m 2ms/step - accuracy: 0.9999 - loss: 2.0699e-04\n",
            "Neural Network Test Accuracy: 0.999919056892395\n",
            "\u001b[1m387/387\u001b[0m \u001b[32m━━━━━━━━━━━━━━━━━━━━\u001b[0m\u001b[37m\u001b[0m \u001b[1m1s\u001b[0m 2ms/step\n",
            "Classification Report for Neural Network:\n",
            "               precision    recall  f1-score   support\n",
            "\n",
            "           0       1.00      1.00      1.00     10968\n",
            "           1       1.00      1.00      1.00      1389\n",
            "\n",
            "    accuracy                           1.00     12357\n",
            "   macro avg       1.00      1.00      1.00     12357\n",
            "weighted avg       1.00      1.00      1.00     12357\n",
            "\n",
            "Confusion Matrix for Neural Network:\n",
            " [[10968     0]\n",
            " [    1  1388]]\n"
          ]
        },
        {
          "output_type": "display_data",
          "data": {
            "text/plain": [
              "<Figure size 640x480 with 1 Axes>"
            ],
            "image/png": "[encoded data removed]"
          },
          "metadata": {}
        },
        {
          "output_type": "display_data",
          "data": {
            "text/plain": [
              "<Figure size 640x480 with 1 Axes>"
            ],
            "image/png": "[encoded data removed]"
          },
          "metadata": {}
        }
      ]
    },
    {
      "cell_type": "markdown",
      "source": [
        "# SMOTE FOR IMBALANCE"
      ],
      "metadata": {
        "id": "xR5PH8DAsx6q"
      }
    },
    {
      "cell_type": "code",
      "source": [
        "# Apply SMOTE\n",
        "# SMOTE (Synthetic Minority Oversampling Technique) is used to address class imbalance by generating synthetic examples for the minority class.\n",
        "# This helps improve model performance by providing balanced training data.\n",
        "smote = SMOTE(random_state=42)\n",
        "X_train_smote, y_train_smote = smote.fit_resample(X_train, y_train)\n",
        "\n",
        "# Check class distribution\n",
        "print(\"Class distribution after SMOTE:\", y_train_smote.value_counts())\n",
        "\n",
        "# Train Random Forest on SMOTE-balanced data\n",
        "rf_model_smote = RandomForestClassifier(n_estimators=100, random_state=42)\n",
        "rf_model_smote.fit(X_train_smote, y_train_smote)\n",
        "\n",
        "# Evaluate\n",
        "y_pred_rf_smote = rf_model_smote.predict(X_test)\n",
        "print(\"Random Forest (With SMOTE) Results:\")\n",
        "print(\"Accuracy:\", accuracy_score(y_test, y_pred_rf_smote))\n",
        "print(\"Classification Report:\\n\", classification_report(y_test, y_pred_rf_smote))\n",
        "print(\"Confusion Matrix:\\n\", confusion_matrix(y_test, y_pred_rf_smote))\n"
      ],
      "metadata": {
        "colab": {
          "base_uri": "https://localhost:8080/"
        },
        "id": "khVk5qH0s0_h",
        "outputId": "30bdd4a6-42ff-4aef-83d5-170dc69fbcb1"
      },
      "execution_count": 13,
      "outputs": [
        {
          "output_type": "stream",
          "name": "stderr",
          "text": [
            "/usr/local/lib/python3.10/dist-packages/sklearn/base.py:474: FutureWarning: `BaseEstimator._validate_data` is deprecated in 1.6 and will be removed in 1.7. Use `sklearn.utils.validation.validate_data` instead. This function becomes public and is part of the scikit-learn developer API.\n",
            "  warnings.warn(\n",
            "/usr/local/lib/python3.10/dist-packages/sklearn/utils/_tags.py:354: FutureWarning: The SMOTE or classes from which it inherits use `_get_tags` and `_more_tags`. Please define the `__sklearn_tags__` method, or inherit from `sklearn.base.BaseEstimator` and/or other appropriate mixins such as `sklearn.base.TransformerMixin`, `sklearn.base.ClassifierMixin`, `sklearn.base.RegressorMixin`, and `sklearn.base.OutlierMixin`. From scikit-learn 1.7, not defining `__sklearn_tags__` will raise an error.\n",
            "  warnings.warn(\n"
          ]
        },
        {
          "output_type": "stream",
          "name": "stdout",
          "text": [
            "Class distribution after SMOTE: y\n",
            "0    25580\n",
            "1    25580\n",
            "Name: count, dtype: int64\n",
            "Random Forest (With SMOTE) Results:\n",
            "Accuracy: 1.0\n",
            "Classification Report:\n",
            "               precision    recall  f1-score   support\n",
            "\n",
            "           0       1.00      1.00      1.00     10968\n",
            "           1       1.00      1.00      1.00      1389\n",
            "\n",
            "    accuracy                           1.00     12357\n",
            "   macro avg       1.00      1.00      1.00     12357\n",
            "weighted avg       1.00      1.00      1.00     12357\n",
            "\n",
            "Confusion Matrix:\n",
            " [[10968     0]\n",
            " [    0  1389]]\n"
          ]
        }
      ]
    }
  ]
}